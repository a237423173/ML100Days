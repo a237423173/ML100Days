{
 "cells": [
  {
   "cell_type": "code",
   "execution_count": 8,
   "metadata": {},
   "outputs": [
    {
     "name": "stdout",
     "output_type": "stream",
     "text": [
      "[False  True  True False False  True]\n",
      "3\n",
      "True\n"
     ]
    }
   ],
   "source": [
    "import numpy as np\n",
    "\n",
    "#共六位同學的英文、數學、國文成績\n",
    "english_score = np.array([55,89,76,65,48,70])\n",
    "math_score = np.array([60,85,60,68,55,60])\n",
    "chinese_score = np.array([65,90,82,72,66,77])\n",
    "\n",
    "#有多少學生英文成績比數學成績高？\n",
    "eng_higher = np.greater(english_score, math_score)\n",
    "sum_enghigher = sum(eng_higher) #True回傳值為1，False回傳值為0\n",
    "print(eng_higher)\n",
    "print(sum_enghigher)\n",
    "\n",
    "#是否全班同學最高分都是國文？\n",
    "chinese_higher_math = np.greater(chinese_score, math_score)\n",
    "chinese_higher_eng = np.greater(chinese_score, english_score)\n",
    "chinese_highest = np.all(chinese_higher_math&chinese_higher_eng)\n",
    "print(chinese_highest)"
   ]
  },
  {
   "cell_type": "code",
   "execution_count": null,
   "metadata": {},
   "outputs": [],
   "source": []
  },
  {
   "cell_type": "code",
   "execution_count": null,
   "metadata": {},
   "outputs": [],
   "source": []
  }
 ],
 "metadata": {
  "kernelspec": {
   "display_name": "Python 3",
   "language": "python",
   "name": "python3"
  },
  "language_info": {
   "codemirror_mode": {
    "name": "ipython",
    "version": 3
   },
   "file_extension": ".py",
   "mimetype": "text/x-python",
   "name": "python",
   "nbconvert_exporter": "python",
   "pygments_lexer": "ipython3",
   "version": "3.8.5"
  }
 },
 "nbformat": 4,
 "nbformat_minor": 4
}

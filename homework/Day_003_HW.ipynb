{
 "cells": [
  {
   "cell_type": "code",
   "execution_count": 22,
   "metadata": {},
   "outputs": [
    {
     "name": "stdout",
     "output_type": "stream",
     "text": [
      "60.0\n",
      "0.09999999999999999\n"
     ]
    }
   ],
   "source": [
    "import numpy as np\n",
    "\n",
    "v0=20\n",
    "v1=20000\n",
    "#正常的談話的聲壓為 20000 微巴斯卡，請問多少分貝?\n",
    "GdB = np.log10(v1/v0)*20\n",
    "print(GdB)\n",
    "\n",
    "#30 分貝的聲壓會是 50 分貝的幾倍?\n",
    "v1 = 10**(GdB/20)*v0\n",
    "v1_30 = 10**(30/20)*20\n",
    "v1_50 = 10**(50/20)*20\n",
    "print(v1_30/v1_50)"
   ]
  },
  {
   "cell_type": "code",
   "execution_count": 21,
   "metadata": {},
   "outputs": [
    {
     "name": "stdout",
     "output_type": "stream",
     "text": [
      "hello numpy\n"
     ]
    }
   ],
   "source": [
    "print(\"hello numpy\")"
   ]
  },
  {
   "cell_type": "code",
   "execution_count": null,
   "metadata": {},
   "outputs": [],
   "source": []
  }
 ],
 "metadata": {
  "kernelspec": {
   "display_name": "Python 3",
   "language": "python",
   "name": "python3"
  },
  "language_info": {
   "codemirror_mode": {
    "name": "ipython",
    "version": 3
   },
   "file_extension": ".py",
   "mimetype": "text/x-python",
   "name": "python",
   "nbconvert_exporter": "python",
   "pygments_lexer": "ipython3",
   "version": "3.8.5"
  }
 },
 "nbformat": 4,
 "nbformat_minor": 4
}

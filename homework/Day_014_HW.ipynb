{
 "cells": [
  {
   "cell_type": "code",
   "execution_count": 1,
   "metadata": {},
   "outputs": [
    {
     "name": "stdout",
     "output_type": "stream",
     "text": [
      "\n",
      "Andy在玩的遊戲是:\n",
      "英雄聯盟\n",
      "皇室戰爭\n",
      "\n",
      "Kdavis在玩的遊戲是:\n",
      "英雄聯盟\n",
      "忍者必須死\n",
      "\n",
      "ReAL在玩的遊戲是:\n",
      "英雄聯盟\n",
      "激鬥峽谷\n",
      "\n",
      "CDB在玩的遊戲是:\n",
      "英雄聯盟\n",
      "皇室戰爭\n",
      "\n",
      "所有種類的遊戲包含：{'激鬥峽谷', '英雄聯盟', '忍者必須死', '皇室戰爭'}\n"
     ]
    }
   ],
   "source": [
    "import numpy as np\n",
    "import pandas as pd\n",
    "game = {'Andy':['英雄聯盟', '皇室戰爭'],\n",
    "        'Kdavis':['英雄聯盟', '忍者必須死'],\n",
    "        'ReAL':['英雄聯盟', '激鬥峽谷'],\n",
    "        'CDB':['英雄聯盟', '皇室戰爭']}\n",
    "\n",
    "ability = {'Andy':[60, 70],\n",
    "           'Kdavis':[90, 90],\n",
    "           'ReAL':[70, 80],\n",
    "           'CDB':[60, 80]}\n",
    "\n",
    "for name, play_game in game.items():\n",
    "    print(f\"\\n{name}在玩的遊戲是:\")\n",
    "    for games in play_game:\n",
    "        print(games)\n",
    "        \n",
    "all_play_game = []\n",
    "for name1, play_game1 in game.items():\n",
    "    all_play_game += play_game1\n",
    "print(f\"\\n所有種類的遊戲包含：{set(all_play_game)}\")\n",
    "\n",
    "\n"
   ]
  },
  {
   "cell_type": "code",
   "execution_count": null,
   "metadata": {},
   "outputs": [],
   "source": []
  }
 ],
 "metadata": {
  "kernelspec": {
   "display_name": "Python 3",
   "language": "python",
   "name": "python3"
  },
  "language_info": {
   "codemirror_mode": {
    "name": "ipython",
    "version": 3
   },
   "file_extension": ".py",
   "mimetype": "text/x-python",
   "name": "python",
   "nbconvert_exporter": "python",
   "pygments_lexer": "ipython3",
   "version": "3.8.5"
  }
 },
 "nbformat": 4,
 "nbformat_minor": 4
}

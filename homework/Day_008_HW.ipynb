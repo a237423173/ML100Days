{
 "cells": [
  {
   "cell_type": "code",
   "execution_count": 16,
   "metadata": {},
   "outputs": [
    {
     "name": "stdout",
     "output_type": "stream",
     "text": [
      "[('小明', 'boy', 67.5, 8,  True) ('小華', 'boy', 75.3, 1,  True)\n",
      " ('小菁', 'girl', 50.1, 5, False) ('小美', 'girl', 45.5, 4, False)\n",
      " ('小張', 'boy', 80.8, 7,  True) ('John', 'boy', 90.4, 6,  True)\n",
      " ('Mark', 'boy', 78.4, 2, False) ('Tom', 'boy', 70.7, 3, False)]\n",
      "69.8375\n",
      "(array([0, 1, 4, 5, 6, 7], dtype=int64),)\n",
      "77.18333333333332\n",
      "(array([2, 3], dtype=int64),)\n",
      "47.8\n"
     ]
    }
   ],
   "source": [
    "import numpy as np\n",
    "name_list = ['小明','小華','小菁','小美','小張','John','Mark','Tom']\n",
    "\n",
    "sex_list = ['boy','boy','girl','girl','boy','boy','boy','boy']\n",
    "\n",
    "weight_list = [67.5,75.3,50.1,45.5,80.8,90.4,78.4,70.7]\n",
    "\n",
    "rank_list = [8,1,5,4,7,6,2,3]\n",
    "\n",
    "myopia_list = [True,True,False,False,True,True,False,False]\n",
    "\n",
    "\n",
    "#將上列 list 依照['name', 'sex', 'weight', 'rank', 'myopia']順序擺入 array，並且資料型態順序擺入[Unicode,Unicode,float,int,boolean]\n",
    "student_type = {'names':('name', 'sex', 'weight', 'rank', 'myopia'), 'formats':('U5','U5','f8','i8','?')}\n",
    "students = np.zeros(8, dtype=student_type)\n",
    "students['name'] = name_list\n",
    "students['sex'] = sex_list\n",
    "students['weight'] = weight_list\n",
    "students['rank'] = rank_list\n",
    "students['myopia'] = myopia_list\n",
    "print(students)\n",
    "\n",
    "#呈上題，將 array 中體重(weight)數據集取出算出全部平均體重\n",
    "weight_mean = np.mean(students['weight'])\n",
    "print(weight_mean)\n",
    "\n",
    "#呈上題，進一步算出男生(sex 欄位是 boy)平均體重\n",
    "boy_index = np.where(students['sex']=='boy')\n",
    "print(boy_index)\n",
    "boy_weight_mean = np.mean(students['weight'][boy_index])\n",
    "print(boy_weight_mean)\n",
    "\n",
    "#呈上題，進一步算出女生(sex 欄位是 girl)平均體重\n",
    "girl_index = np.where(students['sex']=='girl')\n",
    "print(girl_index)\n",
    "girl_weight_mean = np.mean(students['weight'][girl_index])\n",
    "print(girl_weight_mean)"
   ]
  },
  {
   "cell_type": "code",
   "execution_count": null,
   "metadata": {},
   "outputs": [],
   "source": []
  }
 ],
 "metadata": {
  "kernelspec": {
   "display_name": "Python 3",
   "language": "python",
   "name": "python3"
  },
  "language_info": {
   "codemirror_mode": {
    "name": "ipython",
    "version": 3
   },
   "file_extension": ".py",
   "mimetype": "text/x-python",
   "name": "python",
   "nbconvert_exporter": "python",
   "pygments_lexer": "ipython3",
   "version": "3.8.5"
  }
 },
 "nbformat": 4,
 "nbformat_minor": 4
}
